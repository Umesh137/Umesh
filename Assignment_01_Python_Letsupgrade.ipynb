{
  "nbformat": 4,
  "nbformat_minor": 0,
  "metadata": {
    "colab": {
      "name": "Assignment-01_Python_Letsupgrade.ipynb",
      "provenance": [],
      "collapsed_sections": []
    },
    "kernelspec": {
      "name": "python3",
      "display_name": "Python 3"
    }
  },
  "cells": [
    {
      "cell_type": "markdown",
      "metadata": {
        "id": "a_0WVtDQkvsE",
        "colab_type": "text"
      },
      "source": [
        "**List and it's Default functions**"
      ]
    },
    {
      "cell_type": "code",
      "metadata": {
        "id": "0qH-e3UNYg86",
        "colab_type": "code",
        "colab": {}
      },
      "source": [
        "lst = [\"umesh\", 247.9, \"tea\", 560, \"Let'supgrade\"]"
      ],
      "execution_count": 4,
      "outputs": []
    },
    {
      "cell_type": "code",
      "metadata": {
        "id": "xWfA2lBWg3FF",
        "colab_type": "code",
        "colab": {
          "base_uri": "https://localhost:8080/",
          "height": 34
        },
        "outputId": "af7216ca-b4f9-4a04-d62d-9a8fe059ff92"
      },
      "source": [
        "lst"
      ],
      "execution_count": 5,
      "outputs": [
        {
          "output_type": "execute_result",
          "data": {
            "text/plain": [
              "['umesh', 247.9, 'tea', 560, \"Let'supgrade\"]"
            ]
          },
          "metadata": {
            "tags": []
          },
          "execution_count": 5
        }
      ]
    },
    {
      "cell_type": "code",
      "metadata": {
        "id": "nVsd4R70g6FP",
        "colab_type": "code",
        "colab": {
          "base_uri": "https://localhost:8080/",
          "height": 34
        },
        "outputId": "7bbcdcaf-d5e6-41f6-b7d9-c3f12abb1dee"
      },
      "source": [
        "lst.index('tea')"
      ],
      "execution_count": null,
      "outputs": [
        {
          "output_type": "execute_result",
          "data": {
            "text/plain": [
              "2"
            ]
          },
          "metadata": {
            "tags": []
          },
          "execution_count": 17
        }
      ]
    },
    {
      "cell_type": "code",
      "metadata": {
        "id": "aTx4tPrVhfn6",
        "colab_type": "code",
        "colab": {}
      },
      "source": [
        "lst.append(\"007\")"
      ],
      "execution_count": null,
      "outputs": []
    },
    {
      "cell_type": "code",
      "metadata": {
        "id": "PaqL_N04jyF0",
        "colab_type": "code",
        "colab": {
          "base_uri": "https://localhost:8080/",
          "height": 34
        },
        "outputId": "8c9caca4-e170-41bd-ba1e-b1c0ebb32669"
      },
      "source": [
        "lst"
      ],
      "execution_count": 6,
      "outputs": [
        {
          "output_type": "execute_result",
          "data": {
            "text/plain": [
              "['umesh', 247.9, 'tea', 560, \"Let'supgrade\"]"
            ]
          },
          "metadata": {
            "tags": []
          },
          "execution_count": 6
        }
      ]
    },
    {
      "cell_type": "code",
      "metadata": {
        "id": "2NcbP0PFj6KM",
        "colab_type": "code",
        "colab": {}
      },
      "source": [
        "lst.insert(1,\"P\")"
      ],
      "execution_count": null,
      "outputs": []
    },
    {
      "cell_type": "code",
      "metadata": {
        "id": "V1Fzun31kL2p",
        "colab_type": "code",
        "colab": {
          "base_uri": "https://localhost:8080/",
          "height": 34
        },
        "outputId": "87814ac6-4a5d-4dc5-9908-02e4443948ae"
      },
      "source": [
        "lst"
      ],
      "execution_count": 10,
      "outputs": [
        {
          "output_type": "execute_result",
          "data": {
            "text/plain": [
              "['umesh', 247.9, 'tea', 560, \"Let'supgrade\", '1', '1']"
            ]
          },
          "metadata": {
            "tags": []
          },
          "execution_count": 10
        }
      ]
    },
    {
      "cell_type": "code",
      "metadata": {
        "id": "UlpH-o8wkO8E",
        "colab_type": "code",
        "colab": {}
      },
      "source": [
        "lst.extend(\"1\")"
      ],
      "execution_count": 8,
      "outputs": []
    },
    {
      "cell_type": "code",
      "metadata": {
        "id": "jgIghTKOkXCf",
        "colab_type": "code",
        "colab": {
          "base_uri": "https://localhost:8080/",
          "height": 34
        },
        "outputId": "c73fc822-06fa-4235-93b5-65eb6d3bcfc6"
      },
      "source": [
        "lst"
      ],
      "execution_count": 9,
      "outputs": [
        {
          "output_type": "execute_result",
          "data": {
            "text/plain": [
              "['umesh', 247.9, 'tea', 560, \"Let'supgrade\", '1', '1']"
            ]
          },
          "metadata": {
            "tags": []
          },
          "execution_count": 9
        }
      ]
    },
    {
      "cell_type": "code",
      "metadata": {
        "id": "AWMK7T2mkko1",
        "colab_type": "code",
        "colab": {
          "base_uri": "https://localhost:8080/",
          "height": 34
        },
        "outputId": "605089d0-30c0-47b9-830a-1c0023249c5d"
      },
      "source": [
        "lst"
      ],
      "execution_count": 11,
      "outputs": [
        {
          "output_type": "execute_result",
          "data": {
            "text/plain": [
              "['umesh', 247.9, 'tea', 560, \"Let'supgrade\", '1', '1']"
            ]
          },
          "metadata": {
            "tags": []
          },
          "execution_count": 11
        }
      ]
    },
    {
      "cell_type": "code",
      "metadata": {
        "id": "PmKp8LfbkZz4",
        "colab_type": "code",
        "colab": {
          "base_uri": "https://localhost:8080/",
          "height": 34
        },
        "outputId": "e36c36e1-c243-4f5b-f95f-e712f653ea53"
      },
      "source": [
        "lst.pop(1)"
      ],
      "execution_count": 12,
      "outputs": [
        {
          "output_type": "execute_result",
          "data": {
            "text/plain": [
              "247.9"
            ]
          },
          "metadata": {
            "tags": []
          },
          "execution_count": 12
        }
      ]
    },
    {
      "cell_type": "markdown",
      "metadata": {
        "id": "yc9imxw8ljNw",
        "colab_type": "text"
      },
      "source": [
        "***Dictionary***\n"
      ]
    },
    {
      "cell_type": "markdown",
      "metadata": {
        "id": "F3U6AnhYlYEd",
        "colab_type": "text"
      },
      "source": [
        "**`*Dictionary and it's default methods*`**"
      ]
    },
    {
      "cell_type": "code",
      "metadata": {
        "id": "aQUAEpeTlHK3",
        "colab_type": "code",
        "colab": {}
      },
      "source": [
        "dit = {\"Brand\": \"Ship\", \"varient\" : \"titan\", \"model\" : \"Jelly\", \"series\" : \"pro max\"}"
      ],
      "execution_count": 13,
      "outputs": []
    },
    {
      "cell_type": "code",
      "metadata": {
        "id": "5Kl-xXLLoHiX",
        "colab_type": "code",
        "colab": {
          "base_uri": "https://localhost:8080/",
          "height": 35
        },
        "outputId": "2f1c0d59-b9d1-43be-e192-d6980bd81655"
      },
      "source": [
        "dit.get(\"Brand\")"
      ],
      "execution_count": 14,
      "outputs": [
        {
          "output_type": "execute_result",
          "data": {
            "application/vnd.google.colaboratory.intrinsic+json": {
              "type": "string"
            },
            "text/plain": [
              "'Ship'"
            ]
          },
          "metadata": {
            "tags": []
          },
          "execution_count": 14
        }
      ]
    },
    {
      "cell_type": "code",
      "metadata": {
        "id": "92B29a_HoSfP",
        "colab_type": "code",
        "colab": {
          "base_uri": "https://localhost:8080/",
          "height": 34
        },
        "outputId": "d9d89c88-c63c-4f80-a6fb-6dfef64ba66e"
      },
      "source": [
        "dit.items()"
      ],
      "execution_count": 15,
      "outputs": [
        {
          "output_type": "execute_result",
          "data": {
            "text/plain": [
              "dict_items([('Brand', 'Ship'), ('varient', 'titan'), ('model', 'Jelly'), ('series', 'pro max')])"
            ]
          },
          "metadata": {
            "tags": []
          },
          "execution_count": 15
        }
      ]
    },
    {
      "cell_type": "code",
      "metadata": {
        "id": "bP4pFIOjo9kD",
        "colab_type": "code",
        "colab": {
          "base_uri": "https://localhost:8080/",
          "height": 34
        },
        "outputId": "e82de763-4fca-49b4-a7dc-1efff398ad5e"
      },
      "source": [
        "dit.keys()"
      ],
      "execution_count": 17,
      "outputs": [
        {
          "output_type": "execute_result",
          "data": {
            "text/plain": [
              "dict_keys(['Brand', 'varient', 'model', 'series'])"
            ]
          },
          "metadata": {
            "tags": []
          },
          "execution_count": 17
        }
      ]
    },
    {
      "cell_type": "code",
      "metadata": {
        "id": "PkOIho6MpP2Z",
        "colab_type": "code",
        "colab": {
          "base_uri": "https://localhost:8080/",
          "height": 35
        },
        "outputId": "a0685fb2-07f7-4d2a-efae-04d2efd95224"
      },
      "source": [
        "dit.pop(\"series\")"
      ],
      "execution_count": 18,
      "outputs": [
        {
          "output_type": "execute_result",
          "data": {
            "application/vnd.google.colaboratory.intrinsic+json": {
              "type": "string"
            },
            "text/plain": [
              "'pro max'"
            ]
          },
          "metadata": {
            "tags": []
          },
          "execution_count": 18
        }
      ]
    },
    {
      "cell_type": "code",
      "metadata": {
        "id": "Wy2fciePpbGU",
        "colab_type": "code",
        "colab": {
          "base_uri": "https://localhost:8080/",
          "height": 34
        },
        "outputId": "26ddb649-546b-4f2d-fd1c-68608aca04c0"
      },
      "source": [
        "dit"
      ],
      "execution_count": 19,
      "outputs": [
        {
          "output_type": "execute_result",
          "data": {
            "text/plain": [
              "{'Brand': 'Ship', 'model': 'Jelly', 'varient': 'titan'}"
            ]
          },
          "metadata": {
            "tags": []
          },
          "execution_count": 19
        }
      ]
    },
    {
      "cell_type": "code",
      "metadata": {
        "id": "9N35uJHIphHf",
        "colab_type": "code",
        "colab": {}
      },
      "source": [
        "dit[\"sub series\"] = \"plus\""
      ],
      "execution_count": 20,
      "outputs": []
    },
    {
      "cell_type": "code",
      "metadata": {
        "id": "p3WBJPFSpw5a",
        "colab_type": "code",
        "colab": {
          "base_uri": "https://localhost:8080/",
          "height": 34
        },
        "outputId": "713a4efc-4e7a-48b1-a1b6-36fb17b3f424"
      },
      "source": [
        "dit"
      ],
      "execution_count": 21,
      "outputs": [
        {
          "output_type": "execute_result",
          "data": {
            "text/plain": [
              "{'Brand': 'Ship', 'model': 'Jelly', 'sub series': 'plus', 'varient': 'titan'}"
            ]
          },
          "metadata": {
            "tags": []
          },
          "execution_count": 21
        }
      ]
    },
    {
      "cell_type": "markdown",
      "metadata": {
        "id": "-bKhAUtpp9bm",
        "colab_type": "text"
      },
      "source": [
        "Sets and it's functions\n"
      ]
    },
    {
      "cell_type": "code",
      "metadata": {
        "id": "asLjAAmDp6Hi",
        "colab_type": "code",
        "colab": {}
      },
      "source": [
        "st = {5,6,3,1,3,8,9,7} "
      ],
      "execution_count": 22,
      "outputs": []
    },
    {
      "cell_type": "code",
      "metadata": {
        "id": "SI2ODmCkqhB5",
        "colab_type": "code",
        "colab": {
          "base_uri": "https://localhost:8080/",
          "height": 34
        },
        "outputId": "3d00099c-2e52-43ea-fabf-ed3df37e75f8"
      },
      "source": [
        "st"
      ],
      "execution_count": 23,
      "outputs": [
        {
          "output_type": "execute_result",
          "data": {
            "text/plain": [
              "{1, 3, 5, 6, 7, 8, 9}"
            ]
          },
          "metadata": {
            "tags": []
          },
          "execution_count": 23
        }
      ]
    },
    {
      "cell_type": "code",
      "metadata": {
        "id": "iKg_bLVzqmRU",
        "colab_type": "code",
        "colab": {}
      },
      "source": [
        "st1 = {1,3,\"frame\"}"
      ],
      "execution_count": 24,
      "outputs": []
    },
    {
      "cell_type": "code",
      "metadata": {
        "id": "PqO9W6qrqsw9",
        "colab_type": "code",
        "colab": {
          "base_uri": "https://localhost:8080/",
          "height": 34
        },
        "outputId": "bddd8310-c065-4528-fafd-573d0ec10742"
      },
      "source": [
        "st.intersection(st1)"
      ],
      "execution_count": 25,
      "outputs": [
        {
          "output_type": "execute_result",
          "data": {
            "text/plain": [
              "{1, 3}"
            ]
          },
          "metadata": {
            "tags": []
          },
          "execution_count": 25
        }
      ]
    },
    {
      "cell_type": "code",
      "metadata": {
        "id": "4We_zEzAq39f",
        "colab_type": "code",
        "colab": {
          "base_uri": "https://localhost:8080/",
          "height": 34
        },
        "outputId": "579b1c5c-c1da-4607-c29f-0c6f87e910d7"
      },
      "source": [
        "st1.isdisjoint(st)"
      ],
      "execution_count": 26,
      "outputs": [
        {
          "output_type": "execute_result",
          "data": {
            "text/plain": [
              "False"
            ]
          },
          "metadata": {
            "tags": []
          },
          "execution_count": 26
        }
      ]
    },
    {
      "cell_type": "code",
      "metadata": {
        "id": "MK7MSJZ8q-FB",
        "colab_type": "code",
        "colab": {
          "base_uri": "https://localhost:8080/",
          "height": 34
        },
        "outputId": "3756620b-f1b1-4b3d-bf66-f32d9e124645"
      },
      "source": [
        "st1.issubset(st)"
      ],
      "execution_count": 27,
      "outputs": [
        {
          "output_type": "execute_result",
          "data": {
            "text/plain": [
              "False"
            ]
          },
          "metadata": {
            "tags": []
          },
          "execution_count": 27
        }
      ]
    },
    {
      "cell_type": "code",
      "metadata": {
        "id": "WGUCAwmcrCTW",
        "colab_type": "code",
        "colab": {
          "base_uri": "https://localhost:8080/",
          "height": 34
        },
        "outputId": "8a63aba4-b3b0-4510-89c0-e5f7dcf93607"
      },
      "source": [
        "st.issuperset(st1)"
      ],
      "execution_count": 28,
      "outputs": [
        {
          "output_type": "execute_result",
          "data": {
            "text/plain": [
              "False"
            ]
          },
          "metadata": {
            "tags": []
          },
          "execution_count": 28
        }
      ]
    },
    {
      "cell_type": "code",
      "metadata": {
        "id": "tJd7o9-6rLU0",
        "colab_type": "code",
        "colab": {
          "base_uri": "https://localhost:8080/",
          "height": 34
        },
        "outputId": "38c31fcc-e6b5-459a-f644-13bcb6a61e1b"
      },
      "source": [
        "st1.union(st)"
      ],
      "execution_count": 29,
      "outputs": [
        {
          "output_type": "execute_result",
          "data": {
            "text/plain": [
              "{1, 3, 5, 6, 7, 8, 9, 'frame'}"
            ]
          },
          "metadata": {
            "tags": []
          },
          "execution_count": 29
        }
      ]
    },
    {
      "cell_type": "markdown",
      "metadata": {
        "id": "DMQ3I3C0rQbi",
        "colab_type": "text"
      },
      "source": [
        "* Tuples and it's functions*"
      ]
    },
    {
      "cell_type": "code",
      "metadata": {
        "id": "_3GHQytTrpOa",
        "colab_type": "code",
        "colab": {}
      },
      "source": [
        "tup = (\"Fish\", \"Goat\", \"Hen\",\"Camel\", 256)"
      ],
      "execution_count": 30,
      "outputs": []
    },
    {
      "cell_type": "code",
      "metadata": {
        "id": "ZwHX8eDWr6cY",
        "colab_type": "code",
        "colab": {
          "base_uri": "https://localhost:8080/",
          "height": 34
        },
        "outputId": "dc761a6e-4dfe-44a1-c692-e4b8def461ba"
      },
      "source": [
        "tup"
      ],
      "execution_count": 31,
      "outputs": [
        {
          "output_type": "execute_result",
          "data": {
            "text/plain": [
              "('Fish', 'Goat', 'Hen', 'Camel', 256)"
            ]
          },
          "metadata": {
            "tags": []
          },
          "execution_count": 31
        }
      ]
    },
    {
      "cell_type": "code",
      "metadata": {
        "id": "J6nmSGQgr8BV",
        "colab_type": "code",
        "colab": {
          "base_uri": "https://localhost:8080/",
          "height": 34
        },
        "outputId": "52ef52ec-b21c-465c-a99c-899de798f734"
      },
      "source": [
        "tup.count(3)"
      ],
      "execution_count": 32,
      "outputs": [
        {
          "output_type": "execute_result",
          "data": {
            "text/plain": [
              "0"
            ]
          },
          "metadata": {
            "tags": []
          },
          "execution_count": 32
        }
      ]
    },
    {
      "cell_type": "code",
      "metadata": {
        "id": "U52fXtSosEZa",
        "colab_type": "code",
        "colab": {
          "base_uri": "https://localhost:8080/",
          "height": 34
        },
        "outputId": "cc76c323-b600-474f-9224-be97ea10f0f8"
      },
      "source": [
        "tup.count(4)"
      ],
      "execution_count": 33,
      "outputs": [
        {
          "output_type": "execute_result",
          "data": {
            "text/plain": [
              "0"
            ]
          },
          "metadata": {
            "tags": []
          },
          "execution_count": 33
        }
      ]
    },
    {
      "cell_type": "code",
      "metadata": {
        "id": "e3n_7kopsRYB",
        "colab_type": "code",
        "colab": {
          "base_uri": "https://localhost:8080/",
          "height": 34
        },
        "outputId": "71f67f5d-5263-430e-c582-fa4a8be2d0ae"
      },
      "source": [
        "tup.index(\"Camel\")"
      ],
      "execution_count": 34,
      "outputs": [
        {
          "output_type": "execute_result",
          "data": {
            "text/plain": [
              "3"
            ]
          },
          "metadata": {
            "tags": []
          },
          "execution_count": 34
        }
      ]
    },
    {
      "cell_type": "code",
      "metadata": {
        "id": "IZ1fhxXssXbr",
        "colab_type": "code",
        "colab": {
          "base_uri": "https://localhost:8080/",
          "height": 34
        },
        "outputId": "754e81bf-0775-4187-f346-61a94e406d44"
      },
      "source": [
        "tup.index(256)"
      ],
      "execution_count": 35,
      "outputs": [
        {
          "output_type": "execute_result",
          "data": {
            "text/plain": [
              "4"
            ]
          },
          "metadata": {
            "tags": []
          },
          "execution_count": 35
        }
      ]
    }
  ]
}